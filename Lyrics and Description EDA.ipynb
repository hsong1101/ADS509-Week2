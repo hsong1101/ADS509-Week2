{
 "cells": [
  {
   "cell_type": "markdown",
   "id": "7f79baf9",
   "metadata": {},
   "source": [
    "# ADS 509 Assignment 2.1: Tokenization, Normalization, Descriptive Statistics \n",
    "\n",
    "This notebook holds Assignment 2.1 for Module 2 in ADS 509, Applied Text Mining. Work through this notebook, writing code and answering questions where required. \n",
    "\n",
    "In the previous assignment you put together Twitter data and lyrics data on two artists. In this assignment we explore some of the textual features of those data sets. If, for some reason, you did not complete that previous assignment, data to use for this assignment can be found in the assignment materials section of Blackboard. \n",
    "\n",
    "This assignment asks you to write a short function to calculate some descriptive statistics on a piece of text. Then you are asked to find some interesting and unique statistics on your corpora. \n"
   ]
  },
  {
   "cell_type": "markdown",
   "id": "aae8e2e1",
   "metadata": {},
   "source": [
    "## General Assignment Instructions\n",
    "\n",
    "These instructions are included in every assignment, to remind you of the coding standards for the class. Feel free to delete this cell after reading it. \n",
    "\n",
    "One sign of mature code is conforming to a style guide. We recommend the [Google Python Style Guide](https://google.github.io/styleguide/pyguide.html). If you use a different style guide, please include a cell with a link. \n",
    "\n",
    "Your code should be relatively easy-to-read, sensibly commented, and clean. Writing code is a messy process, so please be sure to edit your final submission. Remove any cells that are not needed or parts of cells that contain unnecessary code. Remove inessential `import` statements and make sure that all such statements are moved into the designated cell. \n",
    "\n",
    "Make use of non-code cells for written commentary. These cells should be grammatical and clearly written. In some of these cells you will have questions to answer. The questions will be marked by a \"Q:\" and will have a corresponding \"A:\" spot for you. *Make sure to answer every question marked with a `Q:` for full credit.* \n"
   ]
  },
  {
   "cell_type": "code",
   "execution_count": 1,
   "id": "e2d096b7",
   "metadata": {},
   "outputs": [],
   "source": [
    "import os\n",
    "import re\n",
    "import emoji\n",
    "import pandas as pd\n",
    "import numpy as np\n",
    "\n",
    "from collections import Counter, defaultdict\n",
    "from nltk.corpus import stopwords\n",
    "from string import punctuation\n",
    "\n",
    "sw = stopwords.words(\"english\")"
   ]
  },
  {
   "cell_type": "code",
   "execution_count": 2,
   "id": "6b555ab2",
   "metadata": {},
   "outputs": [],
   "source": [
    "# Add any additional import statements you need here\n",
    "\n"
   ]
  },
  {
   "cell_type": "code",
   "execution_count": 3,
   "id": "923b5a86",
   "metadata": {},
   "outputs": [],
   "source": [
    "# change `data_location` to the location of the folder on your machine.\n",
    "data_location = \"/Users/han/Desktop/USD/ADS 509/ADS509-Week1/\"\n",
    "\n",
    "# These subfolders should still work if you correctly stored the \n",
    "# data from the Module 1 assignment\n",
    "twitter_folder = \"twitter/\"\n",
    "lyrics_folder = \"lyrics/\""
   ]
  },
  {
   "cell_type": "code",
   "execution_count": 4,
   "id": "06522af9",
   "metadata": {},
   "outputs": [],
   "source": [
    "def descriptive_stats(tokens, num_tokens = 5, verbose=True) :\n",
    "    \"\"\"\n",
    "        Given a list of tokens, print number of tokens, number of unique tokens, \n",
    "        number of characters, lexical diversity (https://en.wikipedia.org/wiki/Lexical_diversity), \n",
    "        and num_tokens most common tokens. Return a list with the number of tokens, number\n",
    "        of unique tokens, lexical diversity, and number of characters. \n",
    "    \n",
    "    \"\"\"\n",
    "\n",
    "    # Fill in the correct values here. \n",
    "    num_tokens = len(tokens)\n",
    "    num_unique_tokens = len(set(tokens))\n",
    "    lexical_diversity = num_unique_tokens/num_tokens\n",
    "    num_characters = sum([len(x) for x in tokens])\n",
    "    \n",
    "    if verbose :        \n",
    "        print(f\"There are {num_tokens} tokens in the data.\")\n",
    "        print(f\"There are {num_unique_tokens} unique tokens in the data.\")\n",
    "        print(f\"There are {num_characters} characters in the data.\")\n",
    "        print(f\"The lexical diversity is {lexical_diversity:.3f} in the data.\")\n",
    "    \n",
    "        # print the five most common tokens\n",
    "        \n",
    "    return([num_tokens, num_unique_tokens,\n",
    "            lexical_diversity,\n",
    "            num_characters])\n",
    "    "
   ]
  },
  {
   "cell_type": "code",
   "execution_count": 5,
   "id": "59dcf058",
   "metadata": {},
   "outputs": [
    {
     "name": "stdout",
     "output_type": "stream",
     "text": [
      "There are 13 tokens in the data.\n",
      "There are 9 unique tokens in the data.\n",
      "There are 55 characters in the data.\n",
      "The lexical diversity is 0.692 in the data.\n"
     ]
    }
   ],
   "source": [
    "text = \"\"\"here is some example text with other example text here in this text\"\"\".split()\n",
    "assert(descriptive_stats(text, verbose=True)[0] == 13)\n",
    "assert(descriptive_stats(text, verbose=False)[1] == 9)\n",
    "assert(abs(descriptive_stats(text, verbose=False)[2] - 0.69) < 0.02)\n",
    "assert(descriptive_stats(text, verbose=False)[3] == 55)\n"
   ]
  },
  {
   "cell_type": "markdown",
   "id": "d2e7e1a2",
   "metadata": {},
   "source": [
    "Q: Why is it beneficial to use assertion statements in your code? \n",
    "\n",
    "A: This is like using a test(s) on a function to make sure they work as intended."
   ]
  },
  {
   "cell_type": "markdown",
   "id": "9d3bf93e",
   "metadata": {},
   "source": [
    "## Data Input\n",
    "\n",
    "Now read in each of the corpora. For the lyrics data, it may be convenient to store the entire contents of the file to make it easier to inspect the titles individually, as you'll do in the last part of the assignment. In the solution, I stored the lyrics data in a dictionary with two dimensions of keys: artist and song. The value was the file contents. A data frame would work equally well. \n",
    "\n",
    "For the Twitter data, we only need the description field for this assignment. Feel free all the descriptions read it into a data structure. In the solution, I stored the descriptions as a dictionary of lists, with the key being the artist. \n",
    "\n",
    "\n"
   ]
  },
  {
   "cell_type": "code",
   "execution_count": 6,
   "id": "37d70801",
   "metadata": {},
   "outputs": [
    {
     "data": {
      "text/html": [
       "<div>\n",
       "<style scoped>\n",
       "    .dataframe tbody tr th:only-of-type {\n",
       "        vertical-align: middle;\n",
       "    }\n",
       "\n",
       "    .dataframe tbody tr th {\n",
       "        vertical-align: top;\n",
       "    }\n",
       "\n",
       "    .dataframe thead th {\n",
       "        text-align: right;\n",
       "    }\n",
       "</style>\n",
       "<table border=\"1\" class=\"dataframe\">\n",
       "  <thead>\n",
       "    <tr style=\"text-align: right;\">\n",
       "      <th></th>\n",
       "      <th>artist</th>\n",
       "      <th>title</th>\n",
       "      <th>lyric</th>\n",
       "    </tr>\n",
       "  </thead>\n",
       "  <tbody>\n",
       "    <tr>\n",
       "      <th>0</th>\n",
       "      <td>eminem</td>\n",
       "      <td>Infinite</td>\n",
       "      <td>Aw, yeah (It's like this, like this) It's Emin...</td>\n",
       "    </tr>\n",
       "    <tr>\n",
       "      <th>1</th>\n",
       "      <td>eminem</td>\n",
       "      <td>Soap (Skit)</td>\n",
       "      <td>[Roger:] Skylar Montgomery? [Skylar:] What do ...</td>\n",
       "    </tr>\n",
       "    <tr>\n",
       "      <th>2</th>\n",
       "      <td>eminem</td>\n",
       "      <td>Paul (Skit)</td>\n",
       "      <td>Em... what's going on, it's Paul... Umm... Dre...</td>\n",
       "    </tr>\n",
       "    <tr>\n",
       "      <th>3</th>\n",
       "      <td>eminem</td>\n",
       "      <td>Steve Berman (Skit)</td>\n",
       "      <td>[Door creaks open] [Background music \"What's T...</td>\n",
       "    </tr>\n",
       "    <tr>\n",
       "      <th>4</th>\n",
       "      <td>eminem</td>\n",
       "      <td>Jealousy Woes II</td>\n",
       "      <td>Jealous! Jealous! Jealous! Jealous! Jealous! J...</td>\n",
       "    </tr>\n",
       "  </tbody>\n",
       "</table>\n",
       "</div>"
      ],
      "text/plain": [
       "   artist                title  \\\n",
       "0  eminem             Infinite   \n",
       "1  eminem          Soap (Skit)   \n",
       "2  eminem          Paul (Skit)   \n",
       "3  eminem  Steve Berman (Skit)   \n",
       "4  eminem     Jealousy Woes II   \n",
       "\n",
       "                                               lyric  \n",
       "0  Aw, yeah (It's like this, like this) It's Emin...  \n",
       "1  [Roger:] Skylar Montgomery? [Skylar:] What do ...  \n",
       "2  Em... what's going on, it's Paul... Umm... Dre...  \n",
       "3  [Door creaks open] [Background music \"What's T...  \n",
       "4  Jealous! Jealous! Jealous! Jealous! Jealous! J...  "
      ]
     },
     "execution_count": 6,
     "metadata": {},
     "output_type": "execute_result"
    }
   ],
   "source": [
    "# Read in the lyrics data\n",
    "\n",
    "artists = [x for x in os.listdir(os.path.join(data_location, lyrics_folder)) if 'ipynb' not in x]\n",
    "\n",
    "lyrics = pd.DataFrame(columns=['artist', 'title', 'lyric'])\n",
    "\n",
    "for artist in artists:\n",
    "    \n",
    "    path = os.path.join(data_location, lyrics_folder, artist)\n",
    "    \n",
    "    for file in os.listdir(path):\n",
    "        \n",
    "        if 'txt' not in file:\n",
    "            continue\n",
    "            \n",
    "        song_path = os.path.join(path, file)\n",
    "        \n",
    "        with open(song_path, 'r') as file:\n",
    "            song = file.readlines()\n",
    "            \n",
    "        title = song[0].replace('\\n', '').strip()\n",
    "        \n",
    "        lyric = song[1:]\n",
    "        lyric = ' '.join(lyric)\n",
    "        lyric = lyric.replace('\\n', '').strip()\n",
    "        \n",
    "        lyrics = pd.concat([lyrics, pd.DataFrame({\n",
    "                                        'artist':artist,\n",
    "                                        'title':title,\n",
    "                                        'lyric':lyric\n",
    "                                    }, index=[0])], ignore_index=True)\n",
    "        \n",
    "lyrics.head()"
   ]
  },
  {
   "cell_type": "code",
   "execution_count": 7,
   "id": "debcac5a",
   "metadata": {},
   "outputs": [
    {
     "data": {
      "text/html": [
       "<div>\n",
       "<style scoped>\n",
       "    .dataframe tbody tr th:only-of-type {\n",
       "        vertical-align: middle;\n",
       "    }\n",
       "\n",
       "    .dataframe tbody tr th {\n",
       "        vertical-align: top;\n",
       "    }\n",
       "\n",
       "    .dataframe thead th {\n",
       "        text-align: right;\n",
       "    }\n",
       "</style>\n",
       "<table border=\"1\" class=\"dataframe\">\n",
       "  <thead>\n",
       "    <tr style=\"text-align: right;\">\n",
       "      <th></th>\n",
       "      <th>screen_name</th>\n",
       "      <th>name</th>\n",
       "      <th>id</th>\n",
       "      <th>location</th>\n",
       "      <th>followers_count</th>\n",
       "      <th>friends_count</th>\n",
       "      <th>description</th>\n",
       "      <th>artist</th>\n",
       "    </tr>\n",
       "  </thead>\n",
       "  <tbody>\n",
       "    <tr>\n",
       "      <th>0</th>\n",
       "      <td>YanyiChen91</td>\n",
       "      <td>Annabelle</td>\n",
       "      <td>1522331221631463424</td>\n",
       "      <td>New York</td>\n",
       "      <td>0</td>\n",
       "      <td>31</td>\n",
       "      <td>Chinese-American, bank clerk, financial adviso...</td>\n",
       "      <td>snoopdogg</td>\n",
       "    </tr>\n",
       "    <tr>\n",
       "      <th>1</th>\n",
       "      <td>diegoalmaguer09</td>\n",
       "      <td>Diego Almaguer</td>\n",
       "      <td>978092073466368001</td>\n",
       "      <td>NaN</td>\n",
       "      <td>5</td>\n",
       "      <td>185</td>\n",
       "      <td>Hola.</td>\n",
       "      <td>snoopdogg</td>\n",
       "    </tr>\n",
       "    <tr>\n",
       "      <th>2</th>\n",
       "      <td>fredtindzava</td>\n",
       "      <td>fred tindzava</td>\n",
       "      <td>1368626950349144078</td>\n",
       "      <td>NaN</td>\n",
       "      <td>22</td>\n",
       "      <td>224</td>\n",
       "      <td>why so serious 🧐</td>\n",
       "      <td>snoopdogg</td>\n",
       "    </tr>\n",
       "    <tr>\n",
       "      <th>3</th>\n",
       "      <td>da_madd</td>\n",
       "      <td>ADIEM.</td>\n",
       "      <td>1265613212701073408</td>\n",
       "      <td>Oued Fodda</td>\n",
       "      <td>24</td>\n",
       "      <td>178</td>\n",
       "      <td>VOLATILE.</td>\n",
       "      <td>snoopdogg</td>\n",
       "    </tr>\n",
       "    <tr>\n",
       "      <th>4</th>\n",
       "      <td>Jaxon4Jaxon</td>\n",
       "      <td>Levi Jaxon</td>\n",
       "      <td>1524884646881685504</td>\n",
       "      <td>NaN</td>\n",
       "      <td>3</td>\n",
       "      <td>251</td>\n",
       "      <td>₩</td>\n",
       "      <td>snoopdogg</td>\n",
       "    </tr>\n",
       "  </tbody>\n",
       "</table>\n",
       "</div>"
      ],
      "text/plain": [
       "       screen_name            name                   id  \\\n",
       "0      YanyiChen91       Annabelle  1522331221631463424   \n",
       "1  diegoalmaguer09  Diego Almaguer   978092073466368001   \n",
       "2     fredtindzava   fred tindzava  1368626950349144078   \n",
       "3          da_madd          ADIEM.  1265613212701073408   \n",
       "4      Jaxon4Jaxon      Levi Jaxon  1524884646881685504   \n",
       "\n",
       "                         location  followers_count  friends_count  \\\n",
       "0                        New York                0             31   \n",
       "1                             NaN                5            185   \n",
       "2                             NaN               22            224   \n",
       "3  Oued Fodda                                   24            178   \n",
       "4                             NaN                3            251   \n",
       "\n",
       "                                         description     artist  \n",
       "0  Chinese-American, bank clerk, financial adviso...  snoopdogg  \n",
       "1                                              Hola.  snoopdogg  \n",
       "2                                   why so serious 🧐  snoopdogg  \n",
       "3                                          VOLATILE.  snoopdogg  \n",
       "4                                                  ₩  snoopdogg  "
      ]
     },
     "execution_count": 7,
     "metadata": {},
     "output_type": "execute_result"
    }
   ],
   "source": [
    "# Read in the twitter data\n",
    "\n",
    "artists = [x for x in os.listdir(os.path.join(data_location, twitter_folder)) if 'ipynb' not in x]\n",
    "artists = [x for x in artists if 'follower_data' in x]\n",
    "\n",
    "twitter = pd.DataFrame()\n",
    "\n",
    "for artist in artists:\n",
    "    \n",
    "    temp = pd.read_csv(os.path.join(twitter_folder, artist), sep='\\t')\n",
    "    temp['artist'] = artist.replace('_follower_data.txt', '').lower()\n",
    "    \n",
    "    twitter = pd.concat([twitter, temp], ignore_index=True)\n",
    "    \n",
    "twitter.head()"
   ]
  },
  {
   "cell_type": "markdown",
   "id": "6a5f3b12",
   "metadata": {},
   "source": [
    "## Data Cleaning\n",
    "\n",
    "Now clean and tokenize your data. Remove punctuation chacters (available in the `punctuation` object in the `string` library), split on whitespace, fold to lowercase, and remove stopwords. Store your cleaned data, which must be accessible as an interable for `descriptive_stats`, in new objects or in new columns in your data frame. \n",
    "\n"
   ]
  },
  {
   "cell_type": "code",
   "execution_count": 8,
   "id": "71c73d86",
   "metadata": {},
   "outputs": [],
   "source": [
    "punctuation = set(punctuation) # speeds up comparison\n",
    "punctuation = set([x for x in punctuation if x!='#']) # Keep the hashtag for tweets. May need to remove if not necessary"
   ]
  },
  {
   "cell_type": "code",
   "execution_count": 9,
   "id": "a78932c1-800b-4632-a7d2-23cda5f5ce38",
   "metadata": {},
   "outputs": [],
   "source": [
    "artists = lyrics['artist'].unique().tolist()"
   ]
  },
  {
   "cell_type": "code",
   "execution_count": 10,
   "id": "ea5a756f-ece7-4e6e-b006-2e18dae49899",
   "metadata": {},
   "outputs": [],
   "source": [
    "def drop_punctuation(string):\n",
    "    \n",
    "    for p in punctuation:\n",
    "        \n",
    "        string = string.replace(p, '')\n",
    "        \n",
    "    return string"
   ]
  },
  {
   "cell_type": "code",
   "execution_count": 11,
   "id": "d7426188-db26-4fa6-8dfd-5f9c6c48d364",
   "metadata": {},
   "outputs": [],
   "source": [
    "def clean_data(string):\n",
    "    \n",
    "    string = drop_punctuation(string)\n",
    "    string = string.lower()\n",
    "    # replace two or more space into one\n",
    "    string = re.sub(r'\\s{2,}', ' ', string)\n",
    "    tokens = string.split(' ')\n",
    "    tokens = [x for x in tokens if x not in sw]\n",
    "    \n",
    "    # list of words\n",
    "    return tokens, len(tokens)"
   ]
  },
  {
   "cell_type": "code",
   "execution_count": 12,
   "id": "4f8d976e-2e27-4a07-a8bb-21de4c24c2e0",
   "metadata": {},
   "outputs": [],
   "source": [
    "lyrics_tokens = {}\n",
    "\n",
    "lyrics['lyric'] = lyrics['lyric'].fillna('')\n",
    "\n",
    "for artist in artists:\n",
    "    \n",
    "    cleaned_data = []\n",
    "    \n",
    "    for i, lyric in lyrics[lyrics['artist']==artist].iterrows():\n",
    "        temp, len_tokens = clean_data(lyric['lyric'])\n",
    "        cleaned_data.extend(temp)\n",
    "        lyrics.loc[i, 'Length'] = len_tokens\n",
    "        \n",
    "    cleaned_data = [x for x in cleaned_data if x] # remove any '' character\n",
    "    \n",
    "    lyrics_tokens[artist] = cleaned_data"
   ]
  },
  {
   "cell_type": "code",
   "execution_count": 13,
   "id": "ada671e1-f982-437b-8e4d-fe9897382aa3",
   "metadata": {},
   "outputs": [],
   "source": [
    "tweets_tokens = {}\n",
    "\n",
    "twitter['description'] = twitter['description'].fillna('')\n",
    "\n",
    "for artist in artists:\n",
    "    \n",
    "    cleaned_data = []\n",
    "    \n",
    "    for tweet in twitter.loc[twitter['artist']==artist, 'description']:\n",
    "        temp, _ = clean_data(tweet)\n",
    "        cleaned_data.extend(temp)\n",
    "        \n",
    "    cleaned_data = [x for x in cleaned_data if x] # remove any '' character\n",
    "    \n",
    "    tweets_tokens[artist] = cleaned_data"
   ]
  },
  {
   "cell_type": "markdown",
   "id": "f2dd0179",
   "metadata": {},
   "source": [
    "## Basic Descriptive Statistics\n",
    "\n",
    "Call your `descriptive_stats` function on both your lyrics data and your twitter data and for both artists (four total calls). "
   ]
  },
  {
   "cell_type": "code",
   "execution_count": 14,
   "id": "57d165bb-b90b-45cb-8a12-bdb7fb0e7dae",
   "metadata": {},
   "outputs": [
    {
     "name": "stdout",
     "output_type": "stream",
     "text": [
      "eminem\n",
      "\n",
      "There are 16156 tokens in the data.\n",
      "There are 4148 unique tokens in the data.\n",
      "There are 79413 characters in the data.\n",
      "The lexical diversity is 0.257 in the data.\n",
      "\n",
      "There are 64571 tokens in the data.\n",
      "There are 25689 unique tokens in the data.\n",
      "There are 388484 characters in the data.\n",
      "The lexical diversity is 0.398 in the data.\n",
      "\n",
      "snoopdogg\n",
      "\n",
      "There are 16041 tokens in the data.\n",
      "There are 3655 unique tokens in the data.\n",
      "There are 76709 characters in the data.\n",
      "The lexical diversity is 0.228 in the data.\n",
      "\n",
      "There are 58723 tokens in the data.\n",
      "There are 23509 unique tokens in the data.\n",
      "There are 352330 characters in the data.\n",
      "The lexical diversity is 0.400 in the data.\n",
      "\n"
     ]
    }
   ],
   "source": [
    "for artist in artists:\n",
    "    print(artist)\n",
    "    print()\n",
    "    descriptive_stats(lyrics_tokens[artist])\n",
    "    print()\n",
    "    descriptive_stats(tweets_tokens[artist])\n",
    "    print()"
   ]
  },
  {
   "cell_type": "markdown",
   "id": "46294409",
   "metadata": {},
   "source": [
    "Q: How do you think the \"top 5 words\" would be different if we left stopwords in the data? \n",
    "\n",
    "A: This would result in higher number of tokens (not unique) and number of characters. And doing so will lead most of them (if not all) to show up on top 5 words as they tend to appear more than other words which is one of reasons we drop stopwords before.\n",
    "\n",
    "---\n",
    "\n",
    "Q: What were your prior beliefs about the lexical diversity between the artists? Does the difference (or lack thereof) in lexical diversity between the artists conform to your prior beliefs? \n",
    "\n",
    "A: My assumption was that they should quite have the similar lexcial diversity in both the tweets as well as the lyrics, especially when I chose two artists from Rapping genre. Because of this, the similarity conform to my beliefs."
   ]
  },
  {
   "cell_type": "markdown",
   "id": "4d4e1ac1",
   "metadata": {},
   "source": [
    "\n",
    "## Specialty Statistics\n",
    "\n",
    "The descriptive statistics we have calculated are quite generic. You will now calculate a handful of statistics tailored to these data.\n",
    "\n",
    "1. Ten most common emojis by artist in the twitter descriptions.\n",
    "1. Ten most common hashtags by artist in the twitter descriptions.\n",
    "1. Five most common words in song titles by artist. \n",
    "1. For each artist, a histogram of song lengths (in terms of number of tokens) \n",
    "\n",
    "We can use the `emoji` library to help us identify emojis and you have been given a function to help you.\n"
   ]
  },
  {
   "cell_type": "code",
   "execution_count": 15,
   "id": "753a5a3e",
   "metadata": {},
   "outputs": [],
   "source": [
    "def is_emoji(s):\n",
    "    return(s in emoji.UNICODE_EMOJI['en'])\n",
    "\n",
    "assert(is_emoji(\"❤️\"))\n",
    "assert(not is_emoji(\":-)\"))"
   ]
  },
  {
   "cell_type": "markdown",
   "id": "986fc4c0",
   "metadata": {},
   "source": [
    "### Emojis 😁\n",
    "\n",
    "What are the ten most common emojis by artist in the twitter descriptions? \n"
   ]
  },
  {
   "cell_type": "code",
   "execution_count": 16,
   "id": "7f345339-a11f-4b3f-8d38-a62a68605ff2",
   "metadata": {},
   "outputs": [
    {
     "name": "stdout",
     "output_type": "stream",
     "text": [
      "Top 10 Emojis used by EMINEM in descending order\n",
      "\t ['❤️', '💙', '✨', '🖤', '🎶', '👑', '😎', '🎮', '🐐', '💯']\n",
      "\n",
      "\n",
      "Top 10 Emojis used by SNOOPDOGG in descending order\n",
      "\t ['❤️', '😎', '💯', '✨', '🇺🇸', '👑', '🖤', '🏳️\\u200d🌈', '🙏', '💜']\n",
      "\n",
      "\n"
     ]
    }
   ],
   "source": [
    "for artist in artists:\n",
    "\n",
    "    tweets = tweets_tokens[artist]\n",
    "    emojis = [x for x in tweets if is_emoji(x)]\n",
    "    emojis = pd.Series(emojis).value_counts()\n",
    "    emojis = emojis.head(10)\n",
    "    \n",
    "    print('Top 10 Emojis used by {} in descending order'.format(artist.upper()))\n",
    "    print('\\t', emojis.keys().tolist())\n",
    "    print()\n",
    "    print()"
   ]
  },
  {
   "cell_type": "markdown",
   "id": "bab9b770",
   "metadata": {},
   "source": [
    "### Hashtags\n",
    "\n",
    "What are the ten most common hashtags by artist in the twitter descriptions? \n"
   ]
  },
  {
   "cell_type": "code",
   "execution_count": 17,
   "id": "07c396f1",
   "metadata": {
    "tags": []
   },
   "outputs": [
    {
     "name": "stdout",
     "output_type": "stream",
     "text": [
      "Top 10 Emojis used by EMINEM in descending order\n",
      "\t ['#bitcoin', '#1', '#mufc', '#crypto', '#nft', '#nfts', '#blacklivesmatter', '#blm', '#cfc', '#eth']\n",
      "\n",
      "\n",
      "Top 10 Emojis used by SNOOPDOGG in descending order\n",
      "\t ['#bitcoin', '#nft', '#crypto', '#nfts', '#btc', '#blm', '#blacklivesmatter', '#eth', '#bnb', '#resist']\n",
      "\n",
      "\n"
     ]
    }
   ],
   "source": [
    "for artist in artists:\n",
    "\n",
    "    tweets = tweets_tokens[artist]\n",
    "    hashtags = [x for x in tweets if x[0]=='#']\n",
    "    hashtags = pd.Series(hashtags).value_counts()\n",
    "    hashtags = hashtags[hashtags.keys()!='#'] # There could be just hashtag so drop this. This is caused when hashtag was used with a stopword\n",
    "    hashtags = hashtags.head(10)\n",
    "    \n",
    "    print('Top 10 Emojis used by {} in descending order'.format(artist.upper()))\n",
    "    print('\\t', hashtags.keys().tolist())\n",
    "    print()\n",
    "    print()"
   ]
  },
  {
   "cell_type": "markdown",
   "id": "d10f21d5",
   "metadata": {},
   "source": [
    "### Song Titles\n",
    "\n",
    "What are the five most common words in song titles by artist? The song titles should be on the first line of the lyrics pages, so if you have kept the raw file contents around, you will not need to re-read the data.\n"
   ]
  },
  {
   "cell_type": "code",
   "execution_count": 18,
   "id": "bb69b36b",
   "metadata": {},
   "outputs": [
    {
     "name": "stdout",
     "output_type": "stream",
     "text": [
      "Top 10 Emojis used by EMINEM in descending order\n",
      "\t ['skit', 'shady', 'public', 'fuck', 'murder']\n",
      "\n",
      "\n",
      "Top 10 Emojis used by SNOOPDOGG in descending order\n",
      "\t ['intro', 'pump', 'gz', 'tha', 'dodi']\n",
      "\n",
      "\n"
     ]
    }
   ],
   "source": [
    "# Clean Title\n",
    "\n",
    "for artist in artists:\n",
    "    \n",
    "    title_words = []\n",
    "    \n",
    "    for i, x in lyrics[lyrics['artist']==artist].iterrows():\n",
    "        \n",
    "        cleaned_title, _ = clean_data(x['title'])\n",
    "        title_words.extend(cleaned_title)\n",
    "        \n",
    "    title_words = pd.Series(title_words).value_counts().head(5)\n",
    "    \n",
    "    print('Top 10 Emojis used by {} in descending order'.format(artist.upper()))\n",
    "    print('\\t', title_words.keys().tolist())\n",
    "    print()\n",
    "    print()"
   ]
  },
  {
   "cell_type": "markdown",
   "id": "5dd4fd71",
   "metadata": {},
   "source": [
    "### Song Lengths\n",
    "\n",
    "For each artist, a histogram of song lengths (in terms of number of tokens). If you put the song lengths in a data frame with an artist column, matplotlib will make the plotting quite easy. An example is given to help you out. \n"
   ]
  },
  {
   "cell_type": "code",
   "execution_count": 19,
   "id": "e6b395ad-9580-4fd7-af3a-5d090c35ed58",
   "metadata": {},
   "outputs": [
    {
     "data": {
      "image/png": "[encoded data removed]",
      "text/plain": [
       "<Figure size 432x288 with 1 Axes>"
      ]
     },
     "metadata": {
      "needs_background": "light"
     },
     "output_type": "display_data"
    }
   ],
   "source": [
    "lyrics.groupby('artist')['Length'].plot(kind=\"hist\",density=True,alpha=0.5,legend=True);"
   ]
  },
  {
   "cell_type": "markdown",
   "id": "8fde9ebb",
   "metadata": {},
   "source": [
    "Since the lyrics may be stored with carriage returns or tabs, it may be useful to have a function that can collapse whitespace, using regular expressions, and be used for splitting. \n",
    "\n",
    "Q: What does the regular expression `'\\s+'` match on? \n",
    "\n",
    "A: Any space that appears one or more. Same as having `'\\s{1,}'`\n"
   ]
  },
  {
   "cell_type": "code",
   "execution_count": 20,
   "id": "f0e34516",
   "metadata": {},
   "outputs": [],
   "source": [
    "collapse_whitespace = re.compile(r'\\s+')\n",
    "\n",
    "def tokenize_lyrics(lyric) : \n",
    "    \"\"\"strip and split on whitespace\"\"\"\n",
    "    return([item.lower() for item in collapse_whitespace.split(lyric)])"
   ]
  },
  {
   "cell_type": "code",
   "execution_count": 22,
   "id": "2294c440",
   "metadata": {},
   "outputs": [],
   "source": [
    "# This was already applied and taken care of in the clean_data function\n",
    "# Try this too anyway after applying clean_data\n",
    "\n",
    "# Your lyric length comparison chart here. \n",
    "for artist in artists:\n",
    "    for i, x in lyrics[lyrics['artist']==artist].iterrows():\n",
    "        cleaned_lyric, cleaned_length = clean_data(' '.join(tokenize_lyrics(x['lyric'])))\n",
    "        lyrics.loc[i, 'NewLength'] = cleaned_length"
   ]
  },
  {
   "cell_type": "code",
   "execution_count": 23,
   "id": "409c6a2c-5f73-4a4c-a5e5-36e3cbfe3dbe",
   "metadata": {},
   "outputs": [
    {
     "data": {
      "image/png": "[encoded data removed]",
      "text/plain": [
       "<Figure size 432x288 with 1 Axes>"
      ]
     },
     "metadata": {
      "needs_background": "light"
     },
     "output_type": "display_data"
    }
   ],
   "source": [
    "lyrics.groupby('artist')['NewLength'].plot(kind=\"hist\",density=True,alpha=0.5,legend=True);"
   ]
  },
  {
   "cell_type": "code",
   "execution_count": 24,
   "id": "d10eebf0-e85f-441e-bc98-d56de41e3b56",
   "metadata": {},
   "outputs": [
    {
     "data": {
      "text/html": [
       "<div>\n",
       "<style scoped>\n",
       "    .dataframe tbody tr th:only-of-type {\n",
       "        vertical-align: middle;\n",
       "    }\n",
       "\n",
       "    .dataframe tbody tr th {\n",
       "        vertical-align: top;\n",
       "    }\n",
       "\n",
       "    .dataframe thead th {\n",
       "        text-align: right;\n",
       "    }\n",
       "</style>\n",
       "<table border=\"1\" class=\"dataframe\">\n",
       "  <thead>\n",
       "    <tr style=\"text-align: right;\">\n",
       "      <th></th>\n",
       "      <th>artist</th>\n",
       "      <th>title</th>\n",
       "      <th>lyric</th>\n",
       "      <th>Length</th>\n",
       "      <th>NewLength</th>\n",
       "    </tr>\n",
       "  </thead>\n",
       "  <tbody>\n",
       "    <tr>\n",
       "      <th>0</th>\n",
       "      <td>eminem</td>\n",
       "      <td>Infinite</td>\n",
       "      <td>Aw, yeah (It's like this, like this) It's Emin...</td>\n",
       "      <td>390.0</td>\n",
       "      <td>390.0</td>\n",
       "    </tr>\n",
       "    <tr>\n",
       "      <th>1</th>\n",
       "      <td>eminem</td>\n",
       "      <td>Soap (Skit)</td>\n",
       "      <td>[Roger:] Skylar Montgomery? [Skylar:] What do ...</td>\n",
       "      <td>40.0</td>\n",
       "      <td>40.0</td>\n",
       "    </tr>\n",
       "    <tr>\n",
       "      <th>2</th>\n",
       "      <td>eminem</td>\n",
       "      <td>Paul (Skit)</td>\n",
       "      <td>Em... what's going on, it's Paul... Umm... Dre...</td>\n",
       "      <td>12.0</td>\n",
       "      <td>12.0</td>\n",
       "    </tr>\n",
       "    <tr>\n",
       "      <th>3</th>\n",
       "      <td>eminem</td>\n",
       "      <td>Steve Berman (Skit)</td>\n",
       "      <td>[Door creaks open] [Background music \"What's T...</td>\n",
       "      <td>143.0</td>\n",
       "      <td>143.0</td>\n",
       "    </tr>\n",
       "    <tr>\n",
       "      <th>4</th>\n",
       "      <td>eminem</td>\n",
       "      <td>Jealousy Woes II</td>\n",
       "      <td>Jealous! Jealous! Jealous! Jealous! Jealous! J...</td>\n",
       "      <td>309.0</td>\n",
       "      <td>309.0</td>\n",
       "    </tr>\n",
       "  </tbody>\n",
       "</table>\n",
       "</div>"
      ],
      "text/plain": [
       "   artist                title  \\\n",
       "0  eminem             Infinite   \n",
       "1  eminem          Soap (Skit)   \n",
       "2  eminem          Paul (Skit)   \n",
       "3  eminem  Steve Berman (Skit)   \n",
       "4  eminem     Jealousy Woes II   \n",
       "\n",
       "                                               lyric  Length  NewLength  \n",
       "0  Aw, yeah (It's like this, like this) It's Emin...   390.0      390.0  \n",
       "1  [Roger:] Skylar Montgomery? [Skylar:] What do ...    40.0       40.0  \n",
       "2  Em... what's going on, it's Paul... Umm... Dre...    12.0       12.0  \n",
       "3  [Door creaks open] [Background music \"What's T...   143.0      143.0  \n",
       "4  Jealous! Jealous! Jealous! Jealous! Jealous! J...   309.0      309.0  "
      ]
     },
     "execution_count": 24,
     "metadata": {},
     "output_type": "execute_result"
    }
   ],
   "source": [
    "lyrics.head()"
   ]
  },
  {
   "cell_type": "markdown",
   "id": "c9b5d10c-024a-4759-bf91-97611e2dae87",
   "metadata": {},
   "source": [
    "By the looks of the graph and the table, length values are same (meaning that collapse_whitespace and how I implemented clean_data are functioning the same)"
   ]
  }
 ],
 "metadata": {
  "kernelspec": {
   "display_name": "Python 3 (ipykernel)",
   "language": "python",
   "name": "python3"
  },
  "language_info": {
   "codemirror_mode": {
    "name": "ipython",
    "version": 3
   },
   "file_extension": ".py",
   "mimetype": "text/x-python",
   "name": "python",
   "nbconvert_exporter": "python",
   "pygments_lexer": "ipython3",
   "version": "3.9.6"
  }
 },
 "nbformat": 4,
 "nbformat_minor": 5
}
